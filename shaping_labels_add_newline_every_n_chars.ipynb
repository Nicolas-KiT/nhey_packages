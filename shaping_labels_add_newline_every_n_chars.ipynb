{
 "cells": [
  {
   "cell_type": "code",
   "execution_count": 1,
   "id": "5a4456bf-7824-48b2-b846-03b95bed9f3c",
   "metadata": {},
   "outputs": [],
   "source": [
    "def shaping_labels(df, line_lenght=9):\n",
    "    \"\"\"This function will create new line if text before space is too long.\n",
    "    This will replace '_' with ' '.\"\"\"\n",
    "    # create labels\n",
    "    labels = list(df.index.str.replace('_', ' '))\n",
    "    i = 0\n",
    "    for label in labels:\n",
    "        chars_nb = 0\n",
    "        pos=0\n",
    "        for letter in label:\n",
    "            chars_nb+=1\n",
    "            if letter == ' ':\n",
    "                if chars_nb > line_lenght:\n",
    "                    label = label[:pos] + '\\n' + label[pos+1:]\n",
    "                    chars_nb = 0\n",
    "            pos+=1\n",
    "        labels[i] = label\n",
    "        i+=1\n",
    "    return labels"
   ]
  },
  {
   "cell_type": "code",
   "execution_count": null,
   "id": "8baccd86-69ec-4910-a927-f9a6ae90e9c5",
   "metadata": {},
   "outputs": [],
   "source": []
  }
 ],
 "metadata": {
  "kernelspec": {
   "display_name": "Python 3",
   "language": "python",
   "name": "python3"
  },
  "language_info": {
   "codemirror_mode": {
    "name": "ipython",
    "version": 3
   },
   "file_extension": ".py",
   "mimetype": "text/x-python",
   "name": "python",
   "nbconvert_exporter": "python",
   "pygments_lexer": "ipython3",
   "version": "3.8.5"
  }
 },
 "nbformat": 4,
 "nbformat_minor": 5
}
